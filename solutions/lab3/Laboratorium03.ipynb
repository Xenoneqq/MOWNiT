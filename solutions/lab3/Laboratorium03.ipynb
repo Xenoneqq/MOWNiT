{
 "cells": [
  {
   "cell_type": "markdown",
   "metadata": {},
   "source": [
    "# Sprawozdanie z Laboratorium 3\n",
    "## Autorzy: Mateusz Pawliczek, Piotr Świerzy  \n",
    "## Data: 18.03.25\n",
    "\n",
    "# 1. Wprowadzenie\n",
    "Interpolacja jest jedną z metod aproksymacji funkcji, polegającą na znalezieniu wielomianu przechodzącego przez zadane punkty (węzły interpolacyjne). W ramach niniejszego laboratorium przeprowadzono interpolację danych dotyczących populacji Stanów Zjednoczonych na przestrzeni lat, stosując różne bazy wielomianów oraz metody interpolacji.\n",
    "\n",
    "# 2. Opis zadania\n",
    "Dane wejściowe przedstawiają populację USA dla wybranych lat od 1900 do 1980. Na ich podstawie wykonano interpolację wielomianową, stosując różne bazy funkcji oraz metody interpolacji. Badano wpływ wyboru bazy na stabilność numeryczną obliczeń, a także oceniano dokładność interpolacji na podstawie ekstrapolacji do roku 1990. Dodatkowo przeanalizowano wpływ zaokrąglenia danych na jakość wyników.\n",
    "\n",
    "**Dane wykorzystane do interpolacji**\n",
    "\n",
    "| Rok  | Populacja      |\n",
    "|------|--------------:|\n",
    "| 1900 |  76,212,168  |\n",
    "| 1910 |  92,228,496  |\n",
    "| 1920 | 106,021,537  |\n",
    "| 1930 | 123,202,624  |\n",
    "| 1940 | 132,164,569  |\n",
    "| 1950 | 151,325,798  |\n",
    "| 1960 | 179,323,175  |\n",
    "| 1970 | 203,302,031  |\n",
    "| 1980 | 226,542,199  |\n",
    "\n",
    "# 3. Implementacja i analiza wyników\n",
    "\n",
    "## Tworzenie macierzy Vandermonde’a i wybór najlepiej uwarunkowanej bazy\n",
    "\n",
    "Interpolacja wielomianowa może być realizowana przy użyciu różnych baz funkcji. Jednym ze sposobów jest reprezentacja wielomianu w postaci iloczynu macierzy Vandermonde’a i wektora współczynników. W tym zadaniu zbadano cztery różne bazy funkcji interpolacyjnych, a następnie utworzono dla nich macierz Vandermonde’a.\n",
    "\n",
    "Macierz ta jest znana z tego, że dla dużej liczby węzłów interpolacyjnych może być źle uwarunkowana, co oznacza, że drobne zmiany w danych mogą powodować duże błędy w wynikach obliczeń. Aby określić, która baza jest najbardziej stabilna numerycznie, obliczono współczynnik uwarunkowania dla każdej z nich. Następnie wybrano tę, dla której współczynnik był najmniejszy, co gwarantowało najmniejszą wrażliwość na błędy numeryczne.\n",
    "\n",
    "\n",
    "\n",
    "#### Wymagane Bilbioteki"
   ]
  },
  {
   "cell_type": "code",
   "execution_count": 5,
   "metadata": {},
   "outputs": [],
   "source": [
    "import numpy as np\n",
    "import math\n",
    "import matplotlib.pyplot as plt"
   ]
  },
  {
   "cell_type": "markdown",
   "metadata": {},
   "source": [
    "#### Stworzenie bazy funkcji"
   ]
  },
  {
   "cell_type": "code",
   "execution_count": 6,
   "metadata": {},
   "outputs": [],
   "source": [
    "def equation(t, j, n):\n",
    "    match n:\n",
    "        case 0:\n",
    "            return t**(j-1)\n",
    "        case 1:\n",
    "            return (t - 1900)**(j-1)\n",
    "        case 2:\n",
    "            return (t-1940)**(j-1)\n",
    "        case 3:\n",
    "            return ((t-1940)/40)**(j-1)\n",
    "    return 1"
   ]
  },
  {
   "cell_type": "markdown",
   "metadata": {},
   "source": [
    "#### Stworzenie macierzy Vandermonde’a"
   ]
  },
  {
   "cell_type": "code",
   "execution_count": 7,
   "metadata": {},
   "outputs": [],
   "source": [
    "def create_matrix(X, n):\n",
    "    matrix = np.zeros((len(X), len(X)))\n",
    "    for i in range(len(X)):\n",
    "        for j in range(len(X)):\n",
    "            matrix[i, j] = equation(X[i], j+1, n)\n",
    "    return matrix"
   ]
  },
  {
   "cell_type": "code",
   "execution_count": null,
   "metadata": {},
   "outputs": [],
   "source": []
  },
  {
   "cell_type": "markdown",
   "metadata": {},
   "source": [
    "#### Realizacja zadania\n",
    "\n",
    "Wykorzystując ``equation`` tworzymy macierze za pomocą funkcji ``create_matrix`` a następnie wybieramy tą o najmniejszym współczynniku uwarnkowania."
   ]
  },
  {
   "cell_type": "code",
   "execution_count": 8,
   "metadata": {},
   "outputs": [
    {
     "name": "stdout",
     "output_type": "stream",
     "text": [
      "Q 0 - 1.718562550900496e+38\n",
      "Q 1 - 6306565084492795.0\n",
      "Q 2 - 9315536054612.764\n",
      "Q 3 - 1605.4437004786996\n"
     ]
    }
   ],
   "source": [
    "x = [1900, 1910, 1920, 1930, 1940, 1950, 1960, 1970, 1980]\n",
    "y = [76212168, 92228496, 106021537, 123202624, 132164569, 151325798, 179323175, 203302031, 226542199]\n",
    "\n",
    "best_cond = math.inf\n",
    "best_n = 0\n",
    "for n in range(4):\n",
    "    A = create_matrix(x, n)\n",
    "    cond_number = np.linalg.cond(A)\n",
    "    if cond_number < best_cond:\n",
    "        best_cond = cond_number\n",
    "        best_matrix = A\n",
    "        best_n = n\n",
    "    print(\"Q\", n, \"-\", cond_number)\n",
    "\n",
    "a = np.linalg.solve(best_matrix, y)"
   ]
  }
 ],
 "metadata": {
  "kernelspec": {
   "display_name": "Python 3",
   "language": "python",
   "name": "python3"
  },
  "language_info": {
   "codemirror_mode": {
    "name": "ipython",
    "version": 3
   },
   "file_extension": ".py",
   "mimetype": "text/x-python",
   "name": "python",
   "nbconvert_exporter": "python",
   "pygments_lexer": "ipython3",
   "version": "3.11.9"
  }
 },
 "nbformat": 4,
 "nbformat_minor": 2
}

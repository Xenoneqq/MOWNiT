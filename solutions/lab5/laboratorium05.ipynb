{
 "cells": [
  {
   "cell_type": "markdown",
   "id": "c1b73b83",
   "metadata": {},
   "source": [
    "# Sprawozdanie z Laboratorium 4\n",
    "## Autorzy: Mateusz Pawliczek, Piotr Świerzy  \n",
    "## Data: 08.04.2025"
   ]
  },
  {
   "cell_type": "markdown",
   "id": "4910fd29",
   "metadata": {},
   "source": [
    "## Zadanie 1\n",
    "\n",
    "Celem zadania było wykonanie aproksymacji średniokwadratowej punktowej dla populacji Stanów Zjednoczonych w latach 1900 - 1980 używając do tego wielomianó stopnia m z przedziału [0 - 6]."
   ]
  },
  {
   "cell_type": "markdown",
   "id": "46de20ef",
   "metadata": {},
   "source": [
    "Do wykonania zadania zolstała użyta baza danych populacji USA w wybranych latach:\n",
    "\n",
    "| Rok  | Populacja      |\n",
    "|------|--------------:|\n",
    "| 1900 |  76,212,168  |\n",
    "| 1910 |  92,228,496  |\n",
    "| 1920 | 106,021,537  |\n",
    "| 1930 | 123,202,624  |\n",
    "| 1940 | 132,164,569  |\n",
    "| 1950 | 151,325,798  |\n",
    "| 1960 | 179,323,175  |\n",
    "| 1970 | 203,302,031  |\n",
    "| 1980 | 226,542,199  |\n",
    "\n"
   ]
  },
  {
   "cell_type": "markdown",
   "id": "adca7390",
   "metadata": {},
   "source": [
    "### Implementacja programju do aproksymacji (Pdpkt A)\n",
    "\n",
    "Pierwszym krokiem było zaimplementowanie potrzebnych do realizacji zadania bibliotek matematycznych oraz danych wejściowych"
   ]
  },
  {
   "cell_type": "code",
   "execution_count": 24,
   "id": "5ca7c115",
   "metadata": {},
   "outputs": [],
   "source": [
    "import numpy as np\n",
    "\n",
    "# Data: Population of the USA\n",
    "x = [1900, 1910, 1920, 1930, 1940, 1950, 1960, 1970, 1980]\n",
    "y = [76000000, 92000000, 106000000, 123000000, 132000000,\n",
    "     151000000, 179000000, 203000000, 227000000]\n",
    "\n",
    "# Data: Population of USA in 1990\n",
    "predict_year = 1990\n",
    "true_value = 248709873"
   ]
  },
  {
   "cell_type": "markdown",
   "id": "d4f172e7",
   "metadata": {},
   "source": [
    "Następnie zostały zaimplementowane funkcje obliczające odpowiednie wartości wymagane do wykonania aproksymacji. Wzór ogólny do przeporwadzenia aproksymacji:\n",
    "\n",
    "![image](./assets/wzory.png)"
   ]
  },
  {
   "cell_type": "markdown",
   "id": "bb6d7738",
   "metadata": {},
   "source": [
    "Wzory na Sk, Tk oraz macierze S i T zostały zaimplementowane w następującej formie:"
   ]
  },
  {
   "cell_type": "code",
   "execution_count": 25,
   "id": "f615e303",
   "metadata": {},
   "outputs": [],
   "source": [
    "def calculate_product(x, k):\n",
    "    return sum([x_val ** k for x_val in x])\n",
    "\n",
    "def calculate_result(x, y, k):\n",
    "    return sum([x[i]**k * y[i] for i in range(len(x))])\n",
    "\n",
    "def calculate_matrix_S(x, m):\n",
    "    matrix = np.zeros((m + 1, m + 1))\n",
    "    for i in range(m + 1):\n",
    "        for j in range(m + 1):\n",
    "            matrix[i][j] = calculate_product(x, i + j)\n",
    "    return matrix\n",
    "\n",
    "def calculate_matrix_T(x, y, m):\n",
    "    matrix = np.zeros((m + 1, 1))\n",
    "    for i in range(m + 1):\n",
    "        matrix[i][0] = calculate_result(x, y, i)\n",
    "    return matrix"
   ]
  },
  {
   "cell_type": "markdown",
   "id": "4fcf488e",
   "metadata": {},
   "source": [
    "Zostałą również stworzona funkcja która aproksymuje wartość w danym punkcie x"
   ]
  },
  {
   "cell_type": "code",
   "execution_count": 26,
   "id": "ad328de1",
   "metadata": {},
   "outputs": [],
   "source": [
    "def predict(c, x_val):\n",
    "    return sum([c[i][0] * x_val**i for i in range(len(c))])"
   ]
  },
  {
   "cell_type": "markdown",
   "id": "ecc7cc6f",
   "metadata": {},
   "source": [
    "Finalnie podstawiając macierze i wyznaczając z nich współczynniki jesteśmy w stanie dokonać aproksymacji populacji w USA na rok 1990 i porównać wyniki dla każdego z m = [0 .. 6] (wyniki aproksymacji oraz ich porównanie zostanie pokazane razem z rozwiązaniem pdpkt b)"
   ]
  },
  {
   "cell_type": "markdown",
   "id": "12bff258",
   "metadata": {},
   "source": [
    "### Wykorzystanie kryterium inf. Akaikego (Pdpkt B)\n",
    "\n",
    "Podpunkt b) polegał na implementacji dodatkowego współczynnika, którym jest kryterium informacyjne Akaikego. Służy ono do wyboru optymalnego stopnia wielomianu, który jest najmniej potencjalny na błędy oraz szum.\n",
    "\n",
    "Współczynnik AIC wyznacza się ze wzoru:\n",
    "\n",
    "![image](./assets/wzor_AIC_1.png)\n",
    "\n",
    "Ze względu na niewielką próbkę dodatkowo uwzględnia się skłądnik korygujący:\n",
    "\n",
    "![image](./assets/wzor_AIC_2.png)"
   ]
  },
  {
   "cell_type": "markdown",
   "id": "1ca8bfa9",
   "metadata": {},
   "source": [
    "### Implementacja funkcji wyznaczającej AIC\n",
    "\n",
    "Implementacja wyznaczania współczynnika AIC została zawarta w pętli wyznaczającej aproksymacje dla m = [0 .. 6]. Ostateczne implementacja oraz wyniki podpunktu a) oraz b):"
   ]
  },
  {
   "cell_type": "code",
   "execution_count": 27,
   "id": "91a1e7d8",
   "metadata": {},
   "outputs": [
    {
     "name": "stdout",
     "output_type": "stream",
     "text": [
      "Stopień 0:\n",
      "  Przewidziana populacja w 1990: 143222222\n",
      "  Błąd względny: 42.4139%\n",
      "  AICc: 321.0442\n",
      "\n",
      "Stopień 1:\n",
      "  Przewidziana populacja w 1990: 235805555\n",
      "  Błąd względny: 5.1885%\n",
      "  AICc: 289.3420\n",
      "\n",
      "Stopień 2:\n",
      "  Przewidziana populacja w 1990: 255071428\n",
      "  Błąd względny: 2.5578%\n",
      "  AICc: 279.5179\n",
      "\n",
      "Stopień 3:\n",
      "  Przewidziana populacja w 1990: 262626681\n",
      "  Błąd względny: 5.5956%\n",
      "  AICc: 284.4356\n",
      "\n",
      "Stopień 4:\n",
      "  Przewidziana populacja w 1990: 277939806\n",
      "  Błąd względny: 11.7526%\n",
      "  AICc: 303.3790\n",
      "\n",
      "Stopień 5:\n",
      "  Przewidziana populacja w 1990: 277522413\n",
      "  Błąd względny: 11.5848%\n",
      "  AICc: 327.2685\n",
      "\n",
      "Stopień 6:\n",
      "  Przewidziana populacja w 1990: 251377030\n",
      "  Błąd względny: 1.0724%\n",
      "  AICc: 387.7665\n",
      "\n",
      "Najlepszy stopień według AICc: 2 (AICc = 279.5179)\n",
      "\n",
      "Najlepszy stopień według błędu: 6 (Błąd względny = 1.0724%)\n",
      "\n"
     ]
    }
   ],
   "source": [
    "from math import inf\n",
    "best_error = inf\n",
    "best_aicc = inf \n",
    "\n",
    "for m in range(7):\n",
    "    S = calculate_matrix_S(x, m)\n",
    "    T = calculate_matrix_T(x, y, m)\n",
    "    c = np.linalg.solve(S, T)\n",
    "\n",
    "    y_pred = predict(c, predict_year)\n",
    "    relative_error = abs(y_pred - true_value) / true_value * 100\n",
    "\n",
    "    if relative_error < best_error:\n",
    "        best_error = relative_error\n",
    "        best_degree_err = m\n",
    "\n",
    "    print(f\"Stopień {m}:\")\n",
    "    print(f\"  Przewidziana populacja w 1990: {int(y_pred)}\")\n",
    "    print(f\"  Błąd względny: {relative_error:.4f}%\")\n",
    "\n",
    "    k = m + 1\n",
    "    n = len(x)\n",
    "\n",
    "    rss = sum([(y[i] - predict(c, x[i]))**2 for i in range(n)])\n",
    "\n",
    "    aic = 2*k + n * np.log(rss/n)\n",
    "    aicc = aic + 2*k*(k+1) / (n-k-1)\n",
    "\n",
    "    if aicc < best_aicc:\n",
    "        best_aicc = aicc\n",
    "        best_degree_aicc = m\n",
    "\n",
    "    print(f\"  AICc: {aicc:.4f}\\n\")\n",
    "\n",
    "print(f\"Najlepszy stopień według AICc: {best_degree_aicc} (AICc = {best_aicc:.4f})\\n\")\n",
    "print(f\"Najlepszy stopień według błędu: {best_degree_err} (Błąd względny = {best_error:.4f}%)\\n\")\n"
   ]
  },
  {
   "cell_type": "markdown",
   "id": "f51712ee",
   "metadata": {},
   "source": [
    "## Wnioski do podpunktu B\n",
    "\n",
    "### Czemu najniższy błąd względny jest przy \\( m = 6 \\)?\n",
    "\n",
    "Wielomian 6. stopnia ma aż 7 parametrów (bo \\( k = m + 1 = 7 \\)), więc może **idealnie dopasować się** do 9 punktów danych.\n",
    "\n",
    "To prowadzi do **bardzo niskiego błędu na znanych danych** – ale nie oznacza, że dobrze poradzi sobie z nowymi (czyli nieznanymi) danymi, np. prognozowaniem populacji w przyszłości.\n",
    "\n",
    "Zjawisko to nazywamy **przeuczeniem (overfittingiem)** – model nauczył się szumu zamiast trendu.\n",
    "\n",
    "---\n",
    "\n",
    "### Czemu najlepszy AICc jest przy \\( m = 2 \\)?\n",
    "\n",
    "AICc nie patrzy tylko na dopasowanie, ale także **karze za złożoność modelu**.\n",
    "\n",
    "Dzięki temu wybiera taki stopień wielomianu, który **dobrze dopasowuje dane, ale nie jest zbyt skomplikowany**.\n",
    "\n",
    "Przy małej próbce (jak tutaj: tylko 9 punktów), AICc **szczególnie mocno penalizuje nadmiar parametrów**.\n"
   ]
  },
  {
   "cell_type": "markdown",
   "id": "d205316f",
   "metadata": {},
   "source": [
    "## Zadanie 2\n",
    "\n",
    "Celem zadanie drugiego było wykonanie aproksymacji średniokwadratowej funkcji:\n",
    "\n",
    "```math\n",
    "f(x) = \\sqrt{x}\n",
    "```\n",
    "\n",
    "używając przy tym wielomianów Czebyszewa. Do wyznaczenia oraz przedstawienia funkcji na wykresie skorzystano z bilbioteki pyplot do rysowania wykresów oraz z funkcji Chebyshev implementowanej przez bibliotekę numpy."
   ]
  },
  {
   "cell_type": "code",
   "execution_count": 28,
   "id": "8373dd2b",
   "metadata": {},
   "outputs": [],
   "source": [
    "import matplotlib.pyplot as plt\n",
    "from numpy.polynomial.chebyshev import Chebyshev"
   ]
  },
  {
   "cell_type": "markdown",
   "id": "0af38eb7",
   "metadata": {},
   "source": [
    "W realizacji zadanie drugiego zostały wprowadzone funkcje:"
   ]
  },
  {
   "cell_type": "code",
   "execution_count": 29,
   "id": "938e31c8",
   "metadata": {},
   "outputs": [],
   "source": [
    "def g(x):\n",
    "    return np.sqrt(x + 1)\n",
    "\n",
    "def T(k, x):\n",
    "    if k==0:\n",
    "        return np.ones_like(x)\n",
    "    elif k==1:\n",
    "        return x\n",
    "    elif k==2:\n",
    "        return 2 * x**2 - 1"
   ]
  },
  {
   "cell_type": "markdown",
   "id": "cfba838a",
   "metadata": {},
   "source": [
    "Ostateczna realizacja zadania polegała na wyznaczeniu metodą Czebysheva wielomianu stopnia drugiego, dokonanie aproksymacji i narysowania wykresu:"
   ]
  },
  {
   "cell_type": "code",
   "execution_count": 30,
   "id": "65be3a0d",
   "metadata": {},
   "outputs": [
    {
     "data": {
      "image/png": "[encoded data removed]",
      "text/plain": [
       "<Figure size 1000x600 with 1 Axes>"
      ]
     },
     "metadata": {},
     "output_type": "display_data"
    },
    {
     "name": "stdout",
     "output_type": "stream",
     "text": [
      "Współczynniki w bazie Czebyszewa:\n",
      "c_0 = 0.900326\n",
      "c_1 = 0.600192\n",
      "c_2 = -0.120024\n"
     ]
    }
   ],
   "source": [
    "n_points = 100\n",
    "k = np.arange(1, n_points + 1)\n",
    "x_cheb = np.cos((2*k - 1) * np.pi / (2*n_points))\n",
    "w_cheb = np.pi / n_points\n",
    "\n",
    "coeffs = []\n",
    "\n",
    "for i in range (3):\n",
    "    integ = g(x_cheb) * T(i, x_cheb)\n",
    "    if i==0:\n",
    "        c = (1/np.pi) * np.sum(integ) * w_cheb\n",
    "    else:\n",
    "        c = (2/np.pi) * np.sum(integ) * w_cheb\n",
    "    coeffs.append(c)\n",
    "\n",
    "cheb_poly = Chebyshev(coeffs, domain = [-1, 1])\n",
    "\n",
    "x_vals = np.linspace(0, 2, 400)\n",
    "t_vals = x_vals - 1\n",
    "approx_vals = cheb_poly(t_vals)\n",
    "true_vals = np.sqrt(x_vals)\n",
    "\n",
    "plt.figure(figsize=(10, 6))\n",
    "plt.plot(x_vals, true_vals, label=\"sqrt(x)\", linewidth=2)\n",
    "plt.plot(x_vals, approx_vals, label=\"Aproksymacja Czebyszewa (stopień 2)\", linestyle=\"--\")\n",
    "plt.title(\"Aproksymacja średniokwadratowa funkcji sqrt(x) wielomianem Czebyszewa\")\n",
    "plt.xlabel(\"x\")\n",
    "plt.ylabel(\"y\")\n",
    "plt.grid(True)\n",
    "plt.legend()\n",
    "plt.show()\n",
    "\n",
    "print(\"Współczynniki w bazie Czebyszewa:\")\n",
    "for i, c in enumerate(coeffs):\n",
    "    print(f\"c_{i} = {c:.6f}\")"
   ]
  },
  {
   "cell_type": "markdown",
   "id": "f8f33a86",
   "metadata": {},
   "source": [
    "## Wnioski zadanie 2\n",
    "\n",
    "Porównując wykresy funkcji f(x) z wielomianem ją przybliżającą możemy stwierdzić, że używając wielomianów Czebyszewa faktycznie zyskujemy na czasie związanym z obliczeniami, ale tracimy na precyzji. Może to też jednak wynikać z faktu ograniczenia wielomianu tylko do stopnia 2."
   ]
  }
 ],
 "metadata": {
  "kernelspec": {
   "display_name": "Python 3",
   "language": "python",
   "name": "python3"
  },
  "language_info": {
   "codemirror_mode": {
    "name": "ipython",
    "version": 3
   },
   "file_extension": ".py",
   "mimetype": "text/x-python",
   "name": "python",
   "nbconvert_exporter": "python",
   "pygments_lexer": "ipython3",
   "version": "3.12.0"
  }
 },
 "nbformat": 4,
 "nbformat_minor": 5
}

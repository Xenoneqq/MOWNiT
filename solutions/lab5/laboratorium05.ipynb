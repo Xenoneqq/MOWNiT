{
 "cells": [
  {
   "cell_type": "markdown",
   "id": "c1b73b83",
   "metadata": {},
   "source": [
    "# Sprawozdanie z Laboratorium 4\n",
    "## Autorzy: Mateusz Pawliczek, Piotr Świerzy  \n",
    "## Data: 08.04.2025"
   ]
  },
  {
   "cell_type": "markdown",
   "id": "4910fd29",
   "metadata": {},
   "source": [
    "## Zadanie 1\n",
    "\n",
    "Celem zadania było wykonanie aproksymacji średniokwadratowej punktowej dla populacji Stanów Zjednoczonych w latach 1900 - 1980 używając do tego wielomianó stopnia m z przedziału [0 - 6]."
   ]
  },
  {
   "cell_type": "markdown",
   "id": "46de20ef",
   "metadata": {},
   "source": [
    "Do wykonania zadania zolstała użyta baza danych populacji USA w wybranych latach:\n",
    "\n",
    "| Rok  | Populacja      |\n",
    "|------|--------------:|\n",
    "| 1900 |  76,212,168  |\n",
    "| 1910 |  92,228,496  |\n",
    "| 1920 | 106,021,537  |\n",
    "| 1930 | 123,202,624  |\n",
    "| 1940 | 132,164,569  |\n",
    "| 1950 | 151,325,798  |\n",
    "| 1960 | 179,323,175  |\n",
    "| 1970 | 203,302,031  |\n",
    "| 1980 | 226,542,199  |\n",
    "\n"
   ]
  },
  {
   "cell_type": "markdown",
   "id": "adca7390",
   "metadata": {},
   "source": [
    "### Implementacja programju do aproksymacji\n",
    "\n",
    "Pierwszym krokiem było zaimplementowanie potrzebnych do realizacji zadania bibliotek matematycznych oraz danych wejściowych"
   ]
  },
  {
   "cell_type": "code",
   "execution_count": 2,
   "id": "5ca7c115",
   "metadata": {},
   "outputs": [],
   "source": [
    "import numpy as np\n",
    "\n",
    "# Data: Population of the USA\n",
    "x = [1900, 1910, 1920, 1930, 1940, 1950, 1960, 1970, 1980]\n",
    "y = [76000000, 92000000, 106000000, 123000000, 132000000,\n",
    "     151000000, 179000000, 203000000, 227000000]\n",
    "\n",
    "# Data: Population of USA in 1990\n",
    "predict_year = 1990\n",
    "true_value = 248709873"
   ]
  },
  {
   "cell_type": "markdown",
   "id": "d4f172e7",
   "metadata": {},
   "source": [
    "Następnie zostały zaimplementowane funkcje obliczające odpowiednie wartości wymagane do wykonania aproksymacji. Wzór ogólny do przeporwadzenia aproksymacji:\n",
    "\n",
    "![image](./assets/wzory.png)"
   ]
  },
  {
   "cell_type": "markdown",
   "id": "bb6d7738",
   "metadata": {},
   "source": [
    "Wzory na Sk, Tk oraz macierze S i T zostały zaimplementowane w następującej formie:"
   ]
  },
  {
   "cell_type": "code",
   "execution_count": 3,
   "id": "f615e303",
   "metadata": {},
   "outputs": [],
   "source": [
    "def calculate_product(x, k):\n",
    "    return sum([x_val ** k for x_val in x])\n",
    "\n",
    "def calculate_result(x, y, k):\n",
    "    return sum([x[i]**k * y[i] for i in range(len(x))])\n",
    "\n",
    "def calculate_matrix_S(x, m):\n",
    "    matrix = np.zeros((m + 1, m + 1))\n",
    "    for i in range(m + 1):\n",
    "        for j in range(m + 1):\n",
    "            matrix[i][j] = calculate_product(x, i + j)\n",
    "    return matrix\n",
    "\n",
    "def calculate_matrix_T(x, y, m):\n",
    "    matrix = np.zeros((m + 1, 1))\n",
    "    for i in range(m + 1):\n",
    "        matrix[i][0] = calculate_result(x, y, i)\n",
    "    return matrix"
   ]
  },
  {
   "cell_type": "markdown",
   "id": "4fcf488e",
   "metadata": {},
   "source": [
    "Zostałą również stworzona funkcja która aproksymuje wartość w danym punkcie x"
   ]
  },
  {
   "cell_type": "code",
   "execution_count": null,
   "id": "ad328de1",
   "metadata": {},
   "outputs": [],
   "source": [
    "def predict(c, x_val):\n",
    "    return sum([c[i][0] * x_val**i for i in range(len(c))])"
   ]
  },
  {
   "cell_type": "markdown",
   "id": "ecc7cc6f",
   "metadata": {},
   "source": [
    "Finalnie podstawiając macierze i wyznaczając z nich współczynniki jeste"
   ]
  }
 ],
 "metadata": {
  "kernelspec": {
   "display_name": "Python 3",
   "language": "python",
   "name": "python3"
  },
  "language_info": {
   "codemirror_mode": {
    "name": "ipython",
    "version": 3
   },
   "file_extension": ".py",
   "mimetype": "text/x-python",
   "name": "python",
   "nbconvert_exporter": "python",
   "pygments_lexer": "ipython3",
   "version": "3.12.0"
  }
 },
 "nbformat": 4,
 "nbformat_minor": 5
}
